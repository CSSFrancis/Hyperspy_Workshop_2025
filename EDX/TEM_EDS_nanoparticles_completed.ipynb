{
 "cells": [
  {
   "cell_type": "markdown",
   "metadata": {},
   "source": [
    "# EDS-TEM quantification of core shell nanoparticles\n",
    "\n",
    "Using machine learning methods, such as independent component analysis (ICA), the composition of embedded nanostructures, such as core-shell nanoparticles, can be accurately measured as demonstrated by D. Roussow et al., Nano Letters, 2015 (see the [full article](https://www.repository.cam.ac.uk/bitstream/handle/1810/248102/Roussouw%20et%20al%202015%20Nano%20Letters.pdf?sequence=1)). Using the same data, this notebook reproduces the main results of this article.\n",
    "\n",
    "\n",
    "## Author\n",
    "\n",
    "* 13/04/2015 Pierre Burdet - Developed for HyperSpy workshop at University of Cambridge\n",
    "\n",
    "## Changes\n",
    "\n",
    "* 29/05/2016 Duncan Johnstone. Update the syntax for HyperSpy 0.8.5 (Python 3 compatibility)\n",
    "* 03/08/2016 Francisco de la Peña. Update the syntax for HyperSpy 1.1\n",
    "* 06/08/2016 Francisco de la Peña. Update the syntax for HyperSpy 0.8.1\n",
    "* 27/08/2016 Pierre Burdet. Update for workshop at EMC Lyon\n",
    "* 04/04/2018 Joshua Taillon. Bugfix and update for workshop at NIST\n",
    "* 18/07/2019 Katherine MacArthur. Update to include basic quantification, for M&M 2019 Portland\n",
    "* 15/05/2021 Katherine MacArthur. Update for NordTEMHub 2021.\n",
    "\n",
    "## Requirements\n",
    "\n",
    "* HyperSpy 1.5.1\n",
    "\n",
    "## <a id='top'></a> Contents\n",
    "\n",
    "1. <a href='dat'> Specimen & Data</a>\n",
    "2. <a href='#loa'> Loading and viewing data</a>\n",
    "3. <a href='#counts'> Extracting Counts </a>\n",
    "4. <a href='#quant'> Basic Quantification </a>\n",
    "5. <a href='#bss'> Blind source separation of core/shell nanoparticles</a>\n",
    "6. <a href='#bare'> Representative spectrum from bare cores</a>\n",
    "7. <a href='#com'> Comparison and quantification</a>\n",
    "8. <a href='#fur'> Going father: Isolating the nanoparticles</a>\n",
    "\n",
    "# <a id='dat'></a> 1. Specimen & Data\n",
    "\n",
    "The sample and the data used in this tutorial are described in \n",
    "D. Roussow, et al., Nano Letters, In Press (2015) (see the [full article](https://www.repository.cam.ac.uk/bitstream/handle/1810/248102/Roussouw%20et%20al%202015%20Nano%20Letters.pdf?sequence=1)).\n",
    "\n",
    "FePt@Fe$_3$O$_4$ core-shell nanoparticles are investigated with an EDS/TEM experiment (FEI Osiris TEM, 4 EDS detectors). The composition of the core can be measured with ICA (see figure 1c). To prove the accuracy of the results, measurements on bare FePt bimetallic nanoparticles from a synthesis prior to the shell addition step are used."
   ]
  },
  {
   "cell_type": "markdown",
   "metadata": {},
   "source": [
    "<img src=\"images/core_shell.png\" style=\"height:350px;\">\n",
    "Figure 1: (a) A spectrum image obtained from a cluster of core-shell nanoparticles. (b) The nanoparticles are comprised of a bi-metallic Pt/Fe core surrounded by an iron oxide shell on a carbon support. (c) ICA decomposes the mixed EDX signals into components representing the core (IC#0), shell (IC#1) and support (IC#2)."
   ]
  },
  {
   "cell_type": "markdown",
   "metadata": {},
   "source": [
    "# <a id='loa'></a> 2. Loading and viewing data"
   ]
  },
  {
   "cell_type": "markdown",
   "metadata": {},
   "source": [
    "<a href='#top'> Table of contents</a>"
   ]
  },
  {
   "cell_type": "markdown",
   "metadata": {},
   "source": [
    "Import HyperSpy, numpy and matplotlib libraries.\n",
    "\n",
    "*Remember, if at any point you do not understand how a function operates, its help file can be loaded by typing the name of the command followed by a '?' into a cell and then running that cell.*"
   ]
  },
  {
   "cell_type": "code",
   "execution_count": 1,
   "metadata": {},
   "outputs": [],
   "source": [
    "%matplotlib qt\n",
    "import hyperspy.api as hs"
   ]
  },
  {
   "cell_type": "markdown",
   "metadata": {},
   "source": [
    "Load the spectrum images of the bare nanoparticles and those with a core-shell structure."
   ]
  },
  {
   "cell_type": "code",
   "execution_count": 2,
   "metadata": {},
   "outputs": [
    {
     "name": "stderr",
     "output_type": "stream",
     "text": [
      "C:\\Users\\katherine.macarthur\\AppData\\Local\\anaconda3\\lib\\site-packages\\paramiko\\transport.py:219: CryptographyDeprecationWarning: Blowfish has been deprecated\n",
      "  \"class\": algorithms.Blowfish,\n"
     ]
    }
   ],
   "source": [
    "c = hs.load(\"bare_core.hdf5\", reader='HSPY')\n",
    "cs = hs.load(\"core_shell.hdf5\", reader='HSPY')"
   ]
  },
  {
   "cell_type": "code",
   "execution_count": 3,
   "metadata": {},
   "outputs": [
    {
     "data": {
      "text/html": [
       "<table>\n",
       "    <thead>\n",
       "        <tr>\n",
       "            <th>signal_type</th>\n",
       "            <th>aliases</th>\n",
       "            <th>class name</th>\n",
       "            <th>package</th>\n",
       "        </tr>\n",
       "    </thead>\n",
       "    <tbody>\n",
       "        <tr>\n",
       "            <td>DielectricFunction</td>\n",
       "            <td>dielectric function</td>\n",
       "            <td>DielectricFunction</td>\n",
       "            <td>exspy</td>\n",
       "        </tr>\n",
       "        <tr>\n",
       "            <td>EDS_SEM</td>\n",
       "            <td></td>\n",
       "            <td>EDSSEMSpectrum</td>\n",
       "            <td>exspy</td>\n",
       "        </tr>\n",
       "        <tr>\n",
       "            <td>EDS_TEM</td>\n",
       "            <td></td>\n",
       "            <td>EDSTEMSpectrum</td>\n",
       "            <td>exspy</td>\n",
       "        </tr>\n",
       "        <tr>\n",
       "            <td>EELS</td>\n",
       "            <td>TEM EELS</td>\n",
       "            <td>EELSSpectrum</td>\n",
       "            <td>exspy</td>\n",
       "        </tr>\n",
       "    </tbody>\n",
       "</table>"
      ],
      "text/plain": [
       "+--------------------+---------------------+--------------------+---------+\n",
       "|    signal_type     |       aliases       |     class name     | package |\n",
       "+--------------------+---------------------+--------------------+---------+\n",
       "| DielectricFunction | dielectric function | DielectricFunction |  exspy  |\n",
       "|      EDS_SEM       |                     |   EDSSEMSpectrum   |  exspy  |\n",
       "|      EDS_TEM       |                     |   EDSTEMSpectrum   |  exspy  |\n",
       "|        EELS        |       TEM EELS      |    EELSSpectrum    |  exspy  |\n",
       "+--------------------+---------------------+--------------------+---------+"
      ]
     },
     "metadata": {},
     "output_type": "display_data"
    }
   ],
   "source": [
    "hs.print_known_signal_types()"
   ]
  },
  {
   "cell_type": "markdown",
   "metadata": {},
   "source": [
    "Check the metadata has imported correctly. In particular whether the list of elements you wish to analyse is correct."
   ]
  },
  {
   "cell_type": "code",
   "execution_count": 4,
   "metadata": {},
   "outputs": [
    {
     "data": {
      "text/html": [
       "<ul style=\"margin: 0px; list-style-position: outside;\">\n",
       "                    <details open>\n",
       "                    <summary style=\"display: list-item;\">\n",
       "                    <li style=\"display: inline;\">\n",
       "                    Acquisition_instrument\n",
       "                    </li></summary>\n",
       "                    <ul style=\"margin: 0px; list-style-position: outside;\">\n",
       "                    <details closed>\n",
       "                    <summary style=\"display: list-item;\">\n",
       "                    <li style=\"display: inline;\">\n",
       "                    TEM\n",
       "                    </li></summary>\n",
       "                    <ul style=\"margin: 0px; list-style-position: outside;\">\n",
       "                    <details closed>\n",
       "                    <summary style=\"display: list-item;\">\n",
       "                    <li style=\"display: inline;\">\n",
       "                    Detector\n",
       "                    </li></summary>\n",
       "                    <ul style=\"margin: 0px; list-style-position: outside;\">\n",
       "                    <details closed>\n",
       "                    <summary style=\"display: list-item;\">\n",
       "                    <li style=\"display: inline;\">\n",
       "                    EDS\n",
       "                    </li></summary>\n",
       "                    \n",
       "    <ul style=\"margin: 0px; list-style-position: outside;\">\n",
       "    <li style='margin-left:1em; padding-left: 0.5em'>azimuth_angle = 0.0</li></ul>\n",
       "    \n",
       "    <ul style=\"margin: 0px; list-style-position: outside;\">\n",
       "    <li style='margin-left:1em; padding-left: 0.5em'>elevation_angle = 35.0</li></ul>\n",
       "    \n",
       "    <ul style=\"margin: 0px; list-style-position: outside;\">\n",
       "    <li style='margin-left:1em; padding-left: 0.5em'>energy_resolution_MnKa = 130.0</li></ul>\n",
       "    </details></ul></details></ul><ul style=\"margin: 0px; list-style-position: outside;\">\n",
       "                    <details closed>\n",
       "                    <summary style=\"display: list-item;\">\n",
       "                    <li style=\"display: inline;\">\n",
       "                    Stage\n",
       "                    </li></summary>\n",
       "                    \n",
       "    <ul style=\"margin: 0px; list-style-position: outside;\">\n",
       "    <li style='margin-left:1em; padding-left: 0.5em'>tilt_alpha = 0.0</li></ul>\n",
       "    </details></ul>\n",
       "    <ul style=\"margin: 0px; list-style-position: outside;\">\n",
       "    <li style='margin-left:1em; padding-left: 0.5em'>acquisition_mode = STEM</li></ul>\n",
       "    \n",
       "    <ul style=\"margin: 0px; list-style-position: outside;\">\n",
       "    <li style='margin-left:1em; padding-left: 0.5em'>beam_energy = 200.0</li></ul>\n",
       "    \n",
       "    <ul style=\"margin: 0px; list-style-position: outside;\">\n",
       "    <li style='margin-left:1em; padding-left: 0.5em'>microscope = Microscope TecnaiOsiris 200 kV D658 AnalyticalTwin</li></ul>\n",
       "    </details></ul></details></ul><ul style=\"margin: 0px; list-style-position: outside;\">\n",
       "                    <details open>\n",
       "                    <summary style=\"display: list-item;\">\n",
       "                    <li style=\"display: inline;\">\n",
       "                    General\n",
       "                    </li></summary>\n",
       "                    <ul style=\"margin: 0px; list-style-position: outside;\">\n",
       "                    <details closed>\n",
       "                    <summary style=\"display: list-item;\">\n",
       "                    <li style=\"display: inline;\">\n",
       "                    FileIO\n",
       "                    </li></summary>\n",
       "                    <ul style=\"margin: 0px; list-style-position: outside;\">\n",
       "                    <details closed>\n",
       "                    <summary style=\"display: list-item;\">\n",
       "                    <li style=\"display: inline;\">\n",
       "                    0\n",
       "                    </li></summary>\n",
       "                    \n",
       "    <ul style=\"margin: 0px; list-style-position: outside;\">\n",
       "    <li style='margin-left:1em; padding-left: 0.5em'>hyperspy_version = 1.7.0</li></ul>\n",
       "    \n",
       "    <ul style=\"margin: 0px; list-style-position: outside;\">\n",
       "    <li style='margin-left:1em; padding-left: 0.5em'>io_plugin = hyperspy.io_plugins.hspy</li></ul>\n",
       "    \n",
       "    <ul style=\"margin: 0px; list-style-position: outside;\">\n",
       "    <li style='margin-left:1em; padding-left: 0.5em'>operation = load</li></ul>\n",
       "    \n",
       "    <ul style=\"margin: 0px; list-style-position: outside;\">\n",
       "    <li style='margin-left:1em; padding-left: 0.5em'>timestamp = 2022-05-04T08:37:30.930523+01:00</li></ul>\n",
       "    </details></ul><ul style=\"margin: 0px; list-style-position: outside;\">\n",
       "                    <details closed>\n",
       "                    <summary style=\"display: list-item;\">\n",
       "                    <li style=\"display: inline;\">\n",
       "                    1\n",
       "                    </li></summary>\n",
       "                    \n",
       "    <ul style=\"margin: 0px; list-style-position: outside;\">\n",
       "    <li style='margin-left:1em; padding-left: 0.5em'>hyperspy_version = 1.7.0</li></ul>\n",
       "    \n",
       "    <ul style=\"margin: 0px; list-style-position: outside;\">\n",
       "    <li style='margin-left:1em; padding-left: 0.5em'>io_plugin = hyperspy.io_plugins.hspy</li></ul>\n",
       "    \n",
       "    <ul style=\"margin: 0px; list-style-position: outside;\">\n",
       "    <li style='margin-left:1em; padding-left: 0.5em'>operation = save</li></ul>\n",
       "    \n",
       "    <ul style=\"margin: 0px; list-style-position: outside;\">\n",
       "    <li style='margin-left:1em; padding-left: 0.5em'>timestamp = 2022-05-04T08:40:10.798537+01:00</li></ul>\n",
       "    </details></ul><ul style=\"margin: 0px; list-style-position: outside;\">\n",
       "                    <details closed>\n",
       "                    <summary style=\"display: list-item;\">\n",
       "                    <li style=\"display: inline;\">\n",
       "                    2\n",
       "                    </li></summary>\n",
       "                    \n",
       "    <ul style=\"margin: 0px; list-style-position: outside;\">\n",
       "    <li style='margin-left:1em; padding-left: 0.5em'>hyperspy_version = 1.7.5</li></ul>\n",
       "    \n",
       "    <ul style=\"margin: 0px; list-style-position: outside;\">\n",
       "    <li style='margin-left:1em; padding-left: 0.5em'>io_plugin = rsciio.hspy</li></ul>\n",
       "    \n",
       "    <ul style=\"margin: 0px; list-style-position: outside;\">\n",
       "    <li style='margin-left:1em; padding-left: 0.5em'>operation = load</li></ul>\n",
       "    \n",
       "    <ul style=\"margin: 0px; list-style-position: outside;\">\n",
       "    <li style='margin-left:1em; padding-left: 0.5em'>timestamp = 2024-05-08T09:39:01.211069+01:00</li></ul>\n",
       "    </details></ul></details></ul>\n",
       "    <ul style=\"margin: 0px; list-style-position: outside;\">\n",
       "    <li style='margin-left:1em; padding-left: 0.5em'>date = 14.10.2014</li></ul>\n",
       "    \n",
       "    <ul style=\"margin: 0px; list-style-position: outside;\">\n",
       "    <li style='margin-left:1em; padding-left: 0.5em'>title = Core shell</li></ul>\n",
       "    </details></ul><ul style=\"margin: 0px; list-style-position: outside;\">\n",
       "                    <details open>\n",
       "                    <summary style=\"display: list-item;\">\n",
       "                    <li style=\"display: inline;\">\n",
       "                    Sample\n",
       "                    </li></summary>\n",
       "                    \n",
       "    <ul style=\"margin: 0px; list-style-position: outside;\">\n",
       "    <li style='margin-left:1em; padding-left: 0.5em'>elements = ['Fe', 'Pt']</li></ul>\n",
       "    \n",
       "    <ul style=\"margin: 0px; list-style-position: outside;\">\n",
       "    <li style='margin-left:1em; padding-left: 0.5em'>xray_lines = ['Fe_Ka', 'Pt_La']</li></ul>\n",
       "    </details></ul><ul style=\"margin: 0px; list-style-position: outside;\">\n",
       "                    <details open>\n",
       "                    <summary style=\"display: list-item;\">\n",
       "                    <li style=\"display: inline;\">\n",
       "                    Signal\n",
       "                    </li></summary>\n",
       "                    \n",
       "    <ul style=\"margin: 0px; list-style-position: outside;\">\n",
       "    <li style='margin-left:1em; padding-left: 0.5em'>signal_origin = </li></ul>\n",
       "    \n",
       "    <ul style=\"margin: 0px; list-style-position: outside;\">\n",
       "    <li style='margin-left:1em; padding-left: 0.5em'>signal_type = EDS_TEM</li></ul>\n",
       "    </details></ul>"
      ],
      "text/plain": [
       "├── Acquisition_instrument\n",
       "│   └── TEM\n",
       "│       ├── Detector\n",
       "│       │   └── EDS\n",
       "│       │       ├── azimuth_angle = 0.0\n",
       "│       │       ├── elevation_angle = 35.0\n",
       "│       │       └── energy_resolution_MnKa = 130.0\n",
       "│       ├── Stage\n",
       "│       │   └── tilt_alpha = 0.0\n",
       "│       ├── acquisition_mode = STEM\n",
       "│       ├── beam_energy = 200.0\n",
       "│       └── microscope = Microscope TecnaiOsiris 200 kV D658 AnalyticalTwin\n",
       "├── General\n",
       "│   ├── FileIO\n",
       "│   │   ├── 0\n",
       "│   │   │   ├── hyperspy_version = 1.7.0\n",
       "│   │   │   ├── io_plugin = hyperspy.io_plugins.hspy\n",
       "│   │   │   ├── operation = load\n",
       "│   │   │   └── timestamp = 2022-05-04T08:37:30.930523+01:00\n",
       "│   │   ├── 1\n",
       "│   │   │   ├── hyperspy_version = 1.7.0\n",
       "│   │   │   ├── io_plugin = hyperspy.io_plugins.hspy\n",
       "│   │   │   ├── operation = save\n",
       "│   │   │   └── timestamp = 2022-05-04T08:40:10.798537+01:00\n",
       "│   │   └── 2\n",
       "│   │       ├── hyperspy_version = 1.7.5\n",
       "│   │       ├── io_plugin = rsciio.hspy\n",
       "│   │       ├── operation = load\n",
       "│   │       └── timestamp = 2024-05-08T09:39:01.211069+01:00\n",
       "│   ├── date = 14.10.2014\n",
       "│   └── title = Core shell\n",
       "├── Sample\n",
       "│   ├── elements = ['Fe', 'Pt']\n",
       "│   └── xray_lines = ['Fe_Ka', 'Pt_La']\n",
       "└── Signal\n",
       "    ├── signal_origin = \n",
       "    └── signal_type = EDS_TEM"
      ]
     },
     "execution_count": 4,
     "metadata": {},
     "output_type": "execute_result"
    }
   ],
   "source": [
    "cs.metadata"
   ]
  },
  {
   "cell_type": "markdown",
   "metadata": {},
   "source": [
    "Plot the core-shell data to inspect the signal level:"
   ]
  },
  {
   "cell_type": "code",
   "execution_count": 5,
   "metadata": {},
   "outputs": [],
   "source": [
    "c.plot()"
   ]
  },
  {
   "cell_type": "markdown",
   "metadata": {},
   "source": [
    "Plotting the integrated counts for the whole spectrum image is a good way to check what elements exist in the sample. Adding 'True' to the function also labels any elements from the metadata onto the spectrum."
   ]
  },
  {
   "cell_type": "code",
   "execution_count": 6,
   "metadata": {},
   "outputs": [],
   "source": [
    "cs.sum().plot(True)"
   ]
  },
  {
   "cell_type": "markdown",
   "metadata": {},
   "source": [
    "## <a id='#counts'></a> 3. Extracting count maps of elements\n",
    "\n",
    "<a href='#top'> Table of contents</a>\n"
   ]
  },
  {
   "cell_type": "markdown",
   "metadata": {},
   "source": [
    "If they're not already added it is important to make sure all the elements you want to extract the intensities for are in the metadata of the sample."
   ]
  },
  {
   "cell_type": "code",
   "execution_count": 7,
   "metadata": {},
   "outputs": [],
   "source": [
    "cs.set_elements(['Fe','Pt'])\n",
    "cs.set_lines(['Fe_Ka', 'Pt_La'])\n",
    "\n",
    "c.set_elements(['Fe','Pt'])\n",
    "c.set_lines(['Fe_Ka', 'Pt_La'])\n",
    "#cs.add_elements and cs.add_lines also work if you don't want to override what is \n",
    "#already in the metadata."
   ]
  },
  {
   "cell_type": "markdown",
   "metadata": {},
   "source": [
    "Extracting lines can be done without any background or integration window parameters. However if none are specified the default integration window is 1 FWHM and no background subtraction is carried out."
   ]
  },
  {
   "cell_type": "markdown",
   "metadata": {},
   "source": [
    "Line_width is the distance from the x-ray line (in FWHM) the the background window is taken [left, right] allowing different distances for the two directions.\n",
    "An asymmetric value is used here because otherwise the Pt background windows overlap with the Cu K$_β$ line from the sample grid."
   ]
  },
  {
   "cell_type": "code",
   "execution_count": 8,
   "metadata": {},
   "outputs": [],
   "source": [
    "bw = cs.estimate_background_windows(line_width=[5.0, 2.0])\n",
    "iw =  cs.estimate_integration_windows(windows_width=3)"
   ]
  },
  {
   "cell_type": "code",
   "execution_count": 9,
   "metadata": {},
   "outputs": [
    {
     "data": {
      "text/plain": [
       "array([[5.59527895, 5.73004913, 6.67344035, 6.80821052],\n",
       "       [8.47913271, 8.63962726, 9.7630891 , 9.92358364]])"
      ]
     },
     "execution_count": 9,
     "metadata": {},
     "output_type": "execute_result"
    }
   ],
   "source": [
    "bw"
   ]
  },
  {
   "cell_type": "markdown",
   "metadata": {},
   "source": [
    "It is important to plot the windows to check that they are selecting the data correctly otherwise errors, particularly in background subtraction arise.\n",
    "\n",
    "The integration windows are represented by dashed lines and background windows by solid lines. The estimated background is the plotted by the close to horizontal black lines."
   ]
  },
  {
   "cell_type": "code",
   "execution_count": 13,
   "metadata": {},
   "outputs": [],
   "source": [
    "cs.sum().plot(True, background_windows=bw, integration_windows=iw)"
   ]
  },
  {
   "cell_type": "markdown",
   "metadata": {},
   "source": [
    "Just plotting the raw data doesn't easily show the lines we're interested in. We can improve this by plotting only a subsection of the energy range."
   ]
  },
  {
   "cell_type": "code",
   "execution_count": 20,
   "metadata": {},
   "outputs": [],
   "source": [
    "cs.isig[5.:12.5].sum().plot(True, background_windows=bw, integration_windows=iw)"
   ]
  },
  {
   "cell_type": "markdown",
   "metadata": {},
   "source": [
    "*Try running the previous two cells of code  above with line_width=[3.0,3.0] and see how this results in an erroneous, background subtraction by plotting the background lines. (You might need to zoom in to see it)*"
   ]
  },
  {
   "cell_type": "markdown",
   "metadata": {},
   "source": [
    "How accurate background subtraction will be on a pixel-by-pixel basis can be see with this plot. \n",
    "\n",
    "The x and y sliders select a pixel in the particle images we plotted earlier. \n",
    "\n",
    "You should be able to find some examples (e.g. the Fe K$_α$ line at X=39, Y=44) of where the background subtraction still fails due to a poor signal-to-noise ratio in the data.\n",
    "\n"
   ]
  },
  {
   "cell_type": "code",
   "execution_count": 79,
   "metadata": {},
   "outputs": [
    {
     "name": "stderr",
     "output_type": "stream",
     "text": [
      "C:\\Users\\katherine.macarthur\\AppData\\Local\\anaconda3\\lib\\site-packages\\exspy\\signals\\eds.py:1140: VisibleDeprecationWarning: Creating an ndarray from ragged nested sequences (which is a list-or-tuple of lists-or-tuples-or ndarrays with different lengths or shapes) is deprecated. If you meant to do this, you must specify 'dtype=object' when creating the ndarray.\n",
      "  segments = np.array(segments)\n"
     ]
    },
    {
     "ename": "ValueError",
     "evalue": "The shape of the variable length argument must match the navigation shape of the signal.",
     "output_type": "error",
     "traceback": [
      "\u001b[1;31m---------------------------------------------------------------------------\u001b[0m",
      "\u001b[1;31mValueError\u001b[0m                                Traceback (most recent call last)",
      "Cell \u001b[1;32mIn[79], line 1\u001b[0m\n\u001b[1;32m----> 1\u001b[0m \u001b[43mcs\u001b[49m\u001b[38;5;241;43m.\u001b[39;49m\u001b[43misig\u001b[49m\u001b[43m[\u001b[49m\u001b[38;5;241;43m5.\u001b[39;49m\u001b[43m:\u001b[49m\u001b[38;5;241;43m12.5\u001b[39;49m\u001b[43m]\u001b[49m\u001b[38;5;241;43m.\u001b[39;49m\u001b[43mplot\u001b[49m\u001b[43m(\u001b[49m\u001b[38;5;28;43;01mTrue\u001b[39;49;00m\u001b[43m,\u001b[49m\u001b[43m \u001b[49m\u001b[43mbackground_windows\u001b[49m\u001b[38;5;241;43m=\u001b[39;49m\u001b[43mbw\u001b[49m\u001b[43m)\u001b[49m\n",
      "File \u001b[1;32m~\\AppData\\Local\\anaconda3\\lib\\site-packages\\exspy\\signals\\eds.py:933\u001b[0m, in \u001b[0;36mEDSSpectrum.plot\u001b[1;34m(self, xray_lines, only_lines, only_one, background_windows, integration_windows, navigator, plot_markers, autoscale, norm, axes_manager, navigator_kwds, **kwargs)\u001b[0m\n\u001b[0;32m    857\u001b[0m \u001b[38;5;124;03m\"\"\"Plot the EDS spectrum. The following markers can be added\u001b[39;00m\n\u001b[0;32m    858\u001b[0m \n\u001b[0;32m    859\u001b[0m \u001b[38;5;124;03m- The position of the X-ray lines and their names.\u001b[39;00m\n\u001b[1;32m   (...)\u001b[0m\n\u001b[0;32m    922\u001b[0m \u001b[38;5;124;03mget_lines_intensity, estimate_background_windows\u001b[39;00m\n\u001b[0;32m    923\u001b[0m \u001b[38;5;124;03m\"\"\"\u001b[39;00m\n\u001b[0;32m    924\u001b[0m \u001b[38;5;28msuper\u001b[39m()\u001b[38;5;241m.\u001b[39mplot(\n\u001b[0;32m    925\u001b[0m     navigator\u001b[38;5;241m=\u001b[39mnavigator,\n\u001b[0;32m    926\u001b[0m     plot_markers\u001b[38;5;241m=\u001b[39mplot_markers,\n\u001b[1;32m   (...)\u001b[0m\n\u001b[0;32m    931\u001b[0m     \u001b[38;5;241m*\u001b[39m\u001b[38;5;241m*\u001b[39mkwargs,\n\u001b[0;32m    932\u001b[0m )\n\u001b[1;32m--> 933\u001b[0m \u001b[38;5;28;43mself\u001b[39;49m\u001b[38;5;241;43m.\u001b[39;49m\u001b[43m_plot_xray_lines\u001b[49m\u001b[43m(\u001b[49m\n\u001b[0;32m    934\u001b[0m \u001b[43m    \u001b[49m\u001b[43mxray_lines\u001b[49m\u001b[43m,\u001b[49m\n\u001b[0;32m    935\u001b[0m \u001b[43m    \u001b[49m\u001b[43monly_lines\u001b[49m\u001b[43m,\u001b[49m\n\u001b[0;32m    936\u001b[0m \u001b[43m    \u001b[49m\u001b[43monly_one\u001b[49m\u001b[43m,\u001b[49m\n\u001b[0;32m    937\u001b[0m \u001b[43m    \u001b[49m\u001b[43mbackground_windows\u001b[49m\u001b[43m,\u001b[49m\n\u001b[0;32m    938\u001b[0m \u001b[43m    \u001b[49m\u001b[43mintegration_windows\u001b[49m\u001b[43m,\u001b[49m\n\u001b[0;32m    939\u001b[0m \u001b[43m    \u001b[49m\u001b[43mrender_figure\u001b[49m\u001b[38;5;241;43m=\u001b[39;49m\u001b[38;5;28;43;01mFalse\u001b[39;49;00m\u001b[43m,\u001b[49m\n\u001b[0;32m    940\u001b[0m \u001b[43m\u001b[49m\u001b[43m)\u001b[49m\n\u001b[0;32m    941\u001b[0m \u001b[38;5;28mself\u001b[39m\u001b[38;5;241m.\u001b[39m_render_figure(plot\u001b[38;5;241m=\u001b[39m[\u001b[38;5;124m\"\u001b[39m\u001b[38;5;124msignal_plot\u001b[39m\u001b[38;5;124m\"\u001b[39m])\n",
      "File \u001b[1;32m~\\AppData\\Local\\anaconda3\\lib\\site-packages\\exspy\\signals\\eds.py:989\u001b[0m, in \u001b[0;36mEDSSpectrum._plot_xray_lines\u001b[1;34m(self, xray_lines, only_lines, only_one, background_windows, integration_windows, render_figure)\u001b[0m\n\u001b[0;32m    987\u001b[0m \u001b[38;5;28mself\u001b[39m\u001b[38;5;241m.\u001b[39madd_xray_lines_markers(xray_lines, render_figure\u001b[38;5;241m=\u001b[39m\u001b[38;5;28;01mFalse\u001b[39;00m)\n\u001b[0;32m    988\u001b[0m \u001b[38;5;28;01mif\u001b[39;00m background_windows \u001b[38;5;129;01mis\u001b[39;00m \u001b[38;5;129;01mnot\u001b[39;00m \u001b[38;5;28;01mNone\u001b[39;00m:\n\u001b[1;32m--> 989\u001b[0m     \u001b[38;5;28;43mself\u001b[39;49m\u001b[38;5;241;43m.\u001b[39;49m\u001b[43m_add_background_windows_markers\u001b[49m\u001b[43m(\u001b[49m\n\u001b[0;32m    990\u001b[0m \u001b[43m        \u001b[49m\u001b[43mbackground_windows\u001b[49m\u001b[43m,\u001b[49m\u001b[43m \u001b[49m\u001b[43mrender_figure\u001b[49m\u001b[38;5;241;43m=\u001b[39;49m\u001b[38;5;28;43;01mFalse\u001b[39;49;00m\n\u001b[0;32m    991\u001b[0m \u001b[43m    \u001b[49m\u001b[43m)\u001b[49m\n\u001b[0;32m    992\u001b[0m \u001b[38;5;28;01mif\u001b[39;00m integration_windows \u001b[38;5;129;01mis\u001b[39;00m \u001b[38;5;129;01mnot\u001b[39;00m \u001b[38;5;28;01mNone\u001b[39;00m:\n\u001b[0;32m    993\u001b[0m     \u001b[38;5;28;01mif\u001b[39;00m integration_windows \u001b[38;5;241m==\u001b[39m \u001b[38;5;124m\"\u001b[39m\u001b[38;5;124mauto\u001b[39m\u001b[38;5;124m\"\u001b[39m:\n",
      "File \u001b[1;32m~\\AppData\\Local\\anaconda3\\lib\\site-packages\\exspy\\signals\\eds.py:1142\u001b[0m, in \u001b[0;36mEDSSpectrum._add_background_windows_markers\u001b[1;34m(self, windows_position, render_figure)\u001b[0m\n\u001b[0;32m   1140\u001b[0m segments \u001b[38;5;241m=\u001b[39m np\u001b[38;5;241m.\u001b[39marray(segments)\n\u001b[0;32m   1141\u001b[0m lines \u001b[38;5;241m=\u001b[39m hs\u001b[38;5;241m.\u001b[39mplot\u001b[38;5;241m.\u001b[39mmarkers\u001b[38;5;241m.\u001b[39mLines(segments\u001b[38;5;241m=\u001b[39msegments, color\u001b[38;5;241m=\u001b[39m\u001b[38;5;124m\"\u001b[39m\u001b[38;5;124mblack\u001b[39m\u001b[38;5;124m\"\u001b[39m)\n\u001b[1;32m-> 1142\u001b[0m \u001b[38;5;28;43mself\u001b[39;49m\u001b[38;5;241;43m.\u001b[39;49m\u001b[43madd_marker\u001b[49m\u001b[43m(\u001b[49m\u001b[43mlines\u001b[49m\u001b[43m,\u001b[49m\u001b[43m \u001b[49m\u001b[43mrender_figure\u001b[49m\u001b[38;5;241;43m=\u001b[39;49m\u001b[38;5;28;43;01mFalse\u001b[39;49;00m\u001b[43m)\u001b[49m\n\u001b[0;32m   1143\u001b[0m \u001b[38;5;28;01mif\u001b[39;00m render_figure:\n\u001b[0;32m   1144\u001b[0m     \u001b[38;5;28mself\u001b[39m\u001b[38;5;241m.\u001b[39m_render_figure(plot\u001b[38;5;241m=\u001b[39m[\u001b[38;5;124m\"\u001b[39m\u001b[38;5;124msignal_plot\u001b[39m\u001b[38;5;124m\"\u001b[39m])\n",
      "File \u001b[1;32m~\\AppData\\Local\\anaconda3\\lib\\site-packages\\hyperspy\\signal.py:6450\u001b[0m, in \u001b[0;36mBaseSignal.add_marker\u001b[1;34m(self, marker, plot_on_signal, plot_marker, permanent, plot_signal, render_figure)\u001b[0m\n\u001b[0;32m   6447\u001b[0m     \u001b[38;5;28;01mraise\u001b[39;00m \u001b[38;5;167;01mValueError\u001b[39;00m(\u001b[38;5;124m\"\u001b[39m\u001b[38;5;124mMarkers can not be added to several signals\u001b[39m\u001b[38;5;124m\"\u001b[39m)\n\u001b[0;32m   6449\u001b[0m m\u001b[38;5;241m.\u001b[39m_plot_on_signal \u001b[38;5;241m=\u001b[39m plot_on_signal\n\u001b[1;32m-> 6450\u001b[0m m\u001b[38;5;241m.\u001b[39m_signal \u001b[38;5;241m=\u001b[39m \u001b[38;5;28mself\u001b[39m\n\u001b[0;32m   6452\u001b[0m \u001b[38;5;28;01mif\u001b[39;00m plot_marker:\n\u001b[0;32m   6453\u001b[0m     \u001b[38;5;28;01mif\u001b[39;00m \u001b[38;5;28mself\u001b[39m\u001b[38;5;241m.\u001b[39m_plot \u001b[38;5;129;01mis\u001b[39;00m \u001b[38;5;28;01mNone\u001b[39;00m \u001b[38;5;129;01mor\u001b[39;00m \u001b[38;5;129;01mnot\u001b[39;00m \u001b[38;5;28mself\u001b[39m\u001b[38;5;241m.\u001b[39m_plot\u001b[38;5;241m.\u001b[39mis_active:\n",
      "File \u001b[1;32m~\\AppData\\Local\\anaconda3\\lib\\site-packages\\hyperspy\\drawing\\markers.py:284\u001b[0m, in \u001b[0;36mMarkers._signal\u001b[1;34m(self, signal)\u001b[0m\n\u001b[0;32m    279\u001b[0m         nav_shape \u001b[38;5;241m=\u001b[39m value\u001b[38;5;241m.\u001b[39mshape \u001b[38;5;28;01mif\u001b[39;00m is_iterating(value) \u001b[38;5;28;01melse\u001b[39;00m ()\n\u001b[0;32m    280\u001b[0m         \u001b[38;5;28;01mif\u001b[39;00m (\n\u001b[0;32m    281\u001b[0m             \u001b[38;5;28mlen\u001b[39m(nav_shape) \u001b[38;5;241m!=\u001b[39m \u001b[38;5;241m0\u001b[39m\n\u001b[0;32m    282\u001b[0m             \u001b[38;5;129;01mand\u001b[39;00m nav_shape \u001b[38;5;241m!=\u001b[39m signal\u001b[38;5;241m.\u001b[39maxes_manager\u001b[38;5;241m.\u001b[39mnavigation_shape\n\u001b[0;32m    283\u001b[0m         ):\n\u001b[1;32m--> 284\u001b[0m             \u001b[38;5;28;01mraise\u001b[39;00m \u001b[38;5;167;01mValueError\u001b[39;00m(\n\u001b[0;32m    285\u001b[0m                 \u001b[38;5;124m\"\u001b[39m\u001b[38;5;124mThe shape of the variable length argument must match \u001b[39m\u001b[38;5;124m\"\u001b[39m\n\u001b[0;32m    286\u001b[0m                 \u001b[38;5;124m\"\u001b[39m\u001b[38;5;124mthe navigation shape of the signal.\u001b[39m\u001b[38;5;124m\"\u001b[39m\n\u001b[0;32m    287\u001b[0m             )\n\u001b[0;32m    288\u001b[0m \u001b[38;5;28mself\u001b[39m\u001b[38;5;241m.\u001b[39m__signal \u001b[38;5;241m=\u001b[39m signal\n",
      "\u001b[1;31mValueError\u001b[0m: The shape of the variable length argument must match the navigation shape of the signal."
     ]
    }
   ],
   "source": [
    "cs.isig[5.:12.5].plot(True, background_windows=bw)"
   ]
  },
  {
   "cell_type": "markdown",
   "metadata": {},
   "source": [
    "Another way to adjust the location of the background windows is by changing specific numbers in the background window array individually.\n",
    "\n",
    "Running the 'bw' command will output the array, which contains keV coordinates corresponding to the position of the background windows. Each row corresponds to a different element in the list given in the metadata. Remember arrays in Python start at (0,0).\n",
    "\n",
    "These two commands therefore alter the position of the start and end points of the left-hand background window for Pt."
   ]
  },
  {
   "cell_type": "code",
   "execution_count": 16,
   "metadata": {},
   "outputs": [
    {
     "data": {
      "text/plain": [
       "array([[5.59527895, 5.73004913, 6.67344035, 6.80821052],\n",
       "       [8.4       , 8.6       , 9.7630891 , 9.92358364]])"
      ]
     },
     "execution_count": 16,
     "metadata": {},
     "output_type": "execute_result"
    }
   ],
   "source": [
    "bw"
   ]
  },
  {
   "cell_type": "code",
   "execution_count": 17,
   "metadata": {},
   "outputs": [
    {
     "data": {
      "text/plain": [
       "array([[5.59527895, 5.73004913, 6.67344035, 6.80821052],\n",
       "       [8.44      , 8.65      , 9.7630891 , 9.92358364]])"
      ]
     },
     "execution_count": 17,
     "metadata": {},
     "output_type": "execute_result"
    }
   ],
   "source": [
    "bw[1, 0] = 8.44\n",
    "bw[1, 1] = 8.65\n",
    "bw"
   ]
  },
  {
   "cell_type": "markdown",
   "metadata": {},
   "source": [
    "Often it is prudent to rebin the data such that counts per pixel are increased and a more reliable background subtraction can be carried out. This can be easily done with the rebin function to any new scale.\n",
    "\n",
    "These functions will perform rebinning on both the core-shell ('cs') data and the core-only ('c') data. We define using the 'scale' parameter that we want 2x binning in X, 2x binning in Y, and 1x binning in Z (our counts).\n",
    "\n",
    "*Note, as we are re-defining 'cs' or 'c', this overwrites our previously-imported data. This means running this command multiple times will re-bin the data multiple times. If you accidentally run this command too many times, simply re-import the data by running the 'hs.load' commands at the top of this workbook'.*"
   ]
  },
  {
   "cell_type": "code",
   "execution_count": 19,
   "metadata": {
    "tags": []
   },
   "outputs": [],
   "source": [
    "c.rebin(scale=(2, 2, 1)).plot()"
   ]
  },
  {
   "cell_type": "code",
   "execution_count": 18,
   "metadata": {},
   "outputs": [],
   "source": [
    "cs = cs.rebin(scale=(2,2,1))\n",
    "c = c.rebin(scale=(2,2,1))"
   ]
  },
  {
   "cell_type": "code",
   "execution_count": 20,
   "metadata": {},
   "outputs": [],
   "source": [
    "cs.plot(True)"
   ]
  },
  {
   "cell_type": "markdown",
   "metadata": {},
   "source": [
    "Finally, once the background subtraction windows have been selected to be in careful positions it is possible to extract the intensities. \n",
    "\n",
    "Note that exactly the same windows have been used for analysis of both the 'core' and 'core-shell' data sets. This is critical here as we are comparing the two datasets."
   ]
  },
  {
   "cell_type": "code",
   "execution_count": 21,
   "metadata": {},
   "outputs": [],
   "source": [
    "cs_intensities = cs.get_lines_intensity(background_windows=bw, integration_windows=iw)\n",
    "c_intensities = c.get_lines_intensity(background_windows=bw, integration_windows=iw)"
   ]
  },
  {
   "cell_type": "markdown",
   "metadata": {},
   "source": [
    "Each 'get_lines_intensity' command will create a list of images, again in the same order of the list of elements in the list of metadata. If the element is not in the metadata its intensity map will not be extracted.\n",
    "\n",
    "We can then run 'cs_intensities' to confirm the that we have extracted intensity maps for all our elements of interest."
   ]
  },
  {
   "cell_type": "code",
   "execution_count": 22,
   "metadata": {},
   "outputs": [
    {
     "data": {
      "text/plain": [
       "[<BaseSignal, title: X-ray line intensity of Core shell: Fe_Ka at 6.40 keV, dimensions: (16, 16|)>,\n",
       " <BaseSignal, title: X-ray line intensity of Core shell: Pt_La at 9.44 keV, dimensions: (16, 16|)>]"
      ]
     },
     "execution_count": 22,
     "metadata": {},
     "output_type": "execute_result"
    }
   ],
   "source": [
    "cs_intensities"
   ]
  },
  {
   "cell_type": "code",
   "execution_count": 23,
   "metadata": {},
   "outputs": [],
   "source": [
    "# Plotting one particular image (in this case, the first, Fe_Ka map) can be done with:\n",
    "cs_intensities[1].plot()"
   ]
  },
  {
   "cell_type": "code",
   "execution_count": 24,
   "metadata": {},
   "outputs": [
    {
     "data": {
      "text/plain": [
       "[<Axes: title={'center': 'Fe_Ka at 6.40 keV'}>,\n",
       " <Axes: title={'center': 'Pt_La at 9.44 keV'}>]"
      ]
     },
     "execution_count": 24,
     "metadata": {},
     "output_type": "execute_result"
    }
   ],
   "source": [
    "#All the intensity maps can be plotted using:\n",
    "hs.plot.plot_images(cs_intensities, cmap='viridis', axes_decor=None, scalebar='all')"
   ]
  },
  {
   "cell_type": "markdown",
   "metadata": {},
   "source": [
    "Plotting and extracting intensity for both data sets can be condensed into one line."
   ]
  },
  {
   "cell_type": "code",
   "execution_count": 25,
   "metadata": {},
   "outputs": [],
   "source": [
    "axes = hs.plot.plot_images((c.get_lines_intensity(background_windows=bw, integration_windows=iw)\n",
    "                                          + cs.get_lines_intensity(background_windows=bw, integration_windows=iw)),\n",
    "                           scalebar='all', axes_decor=None, per_row=2, cmap='viridis')"
   ]
  },
  {
   "cell_type": "markdown",
   "metadata": {},
   "source": [
    "## <a id='#quant'></a> 4. Quantification of count maps\n",
    "\n",
    "<a href='#top'> Table of contents</a>"
   ]
  },
  {
   "cell_type": "markdown",
   "metadata": {},
   "source": [
    "Hyperspy is able to carry out EDX quantification using k-factors 'CL', zeta-factors 'zeta', or cross_sections 'cross_sections'. \n",
    "\n",
    "All these methods are applied in the same way using the combination of the stack of intensities and and original data."
   ]
  },
  {
   "cell_type": "markdown",
   "metadata": {},
   "source": [
    "For 'zeta' or 'cross_section' quantification both a 'live_time' and a 'beam_current' should be in the metadata."
   ]
  },
  {
   "cell_type": "code",
   "execution_count": 26,
   "metadata": {},
   "outputs": [],
   "source": [
    "#Setting these parameters in the metadata.\n",
    "cs.set_microscope_parameters(live_time = 6.15) #in seconds\n",
    "cs.set_microscope_parameters(beam_current = 0.5) #in nA"
   ]
  },
  {
   "cell_type": "code",
   "execution_count": 27,
   "metadata": {},
   "outputs": [],
   "source": [
    "#From Brucker software (Esprit) k-factors\n",
    "factors = [1.450226, 5.75602]"
   ]
  },
  {
   "cell_type": "code",
   "execution_count": 28,
   "metadata": {},
   "outputs": [
    {
     "name": "stdout",
     "output_type": "stream",
     "text": [
      "[########################################] | 100% Completed | 121.01 ms\n"
     ]
    }
   ],
   "source": [
    "quant = cs.quantification(cs_intensities, 'CL', factors=factors)"
   ]
  },
  {
   "cell_type": "code",
   "execution_count": 29,
   "metadata": {
    "tags": []
   },
   "outputs": [
    {
     "data": {
      "text/plain": [
       "[<BaseSignal, title: atomic percent of Fe, dimensions: (16, 16|)>,\n",
       " <BaseSignal, title: atomic percent of Pt, dimensions: (16, 16|)>]"
      ]
     },
     "execution_count": 29,
     "metadata": {},
     "output_type": "execute_result"
    }
   ],
   "source": [
    "quant"
   ]
  },
  {
   "cell_type": "code",
   "execution_count": 30,
   "metadata": {},
   "outputs": [],
   "source": [
    "quant[1].plot()"
   ]
  },
  {
   "cell_type": "markdown",
   "metadata": {},
   "source": [
    "Again as with the intensities the quantification function result produces a list of images with atomic percent of each element (at least in the 'CL' case). \n",
    "\n",
    "In the 'zeta' and 'cross_section' methods more information is outputed from quantification. See the [EDS quantification](http://hyperspy.org/hyperspy-doc/current/user_guide/eds.html#eds-quantification) section of the documentation for more details."
   ]
  },
  {
   "cell_type": "markdown",
   "metadata": {},
   "source": [
    "Alternatively, if the factors are treated as cross_sections then the output result contains two lists of images, the first is a list of atomic *percent* maps (Index [0]) the second is a list of atomic *number* maps (Index [1]). This allows us to 'zero-out' regions of the image with too few counts."
   ]
  },
  {
   "cell_type": "markdown",
   "metadata": {},
   "source": [
    "*Please note these values aren't accurate cross-sections but can be used as such for the purpose of this demo.*"
   ]
  },
  {
   "cell_type": "markdown",
   "metadata": {},
   "source": [
    "Ignore the warning produced, in this case we want to use a 1nm$^2$ probe size. As long as the pixel scale is calibrated in your spectrum image, probe size is taken as the pixel unless otherwise specified using s.set_microscope_parameters(probe_area = ?)."
   ]
  },
  {
   "cell_type": "code",
   "execution_count": 31,
   "metadata": {},
   "outputs": [],
   "source": [
    "factors = [5., 14.]\n",
    "quant = cs.quantification(cs_intensities, 'cross_section', factors=factors)"
   ]
  },
  {
   "cell_type": "code",
   "execution_count": 32,
   "metadata": {},
   "outputs": [
    {
     "data": {
      "text/plain": [
       "([<BaseSignal, title: atomic percent of Fe, dimensions: (16, 16|)>,\n",
       "  <BaseSignal, title: atomic percent of Pt, dimensions: (16, 16|)>],\n",
       " [<BaseSignal, title: atom counts of Fe, dimensions: (16, 16|)>,\n",
       "  <BaseSignal, title: atom counts of Pt, dimensions: (16, 16|)>])"
      ]
     },
     "execution_count": 32,
     "metadata": {},
     "output_type": "execute_result"
    }
   ],
   "source": [
    "quant"
   ]
  },
  {
   "cell_type": "markdown",
   "metadata": {},
   "source": [
    "Summing all the images containing numbers of atoms (quant[1]) gives us an image mapping out the total number of estimated atoms in the sample."
   ]
  },
  {
   "cell_type": "code",
   "execution_count": 33,
   "metadata": {},
   "outputs": [],
   "source": [
    "No_of_atoms = quant[1][0] + quant[1][1]\n",
    "No_of_atoms.plot()"
   ]
  },
  {
   "cell_type": "markdown",
   "metadata": {},
   "source": [
    "This 'total number of atoms' image can be used to make a mask and 'zero-out' any region of the image where the total counts equate to less than 1 atom count. This could also be done on an element by element basis instead."
   ]
  },
  {
   "cell_type": "code",
   "execution_count": 34,
   "metadata": {},
   "outputs": [
    {
     "data": {
      "text/plain": [
       "[<Axes: title={'center': 'Fe'}, xlabel='x axis (nm)', ylabel='y axis (nm)'>,\n",
       " <Axes: title={'center': 'Pt'}, xlabel='x axis (nm)', ylabel='y axis (nm)'>]"
      ]
     },
     "execution_count": 34,
     "metadata": {},
     "output_type": "execute_result"
    }
   ],
   "source": [
    "Mask = No_of_atoms > 2.\n",
    "hs.plot.plot_images([Mask*quant[0][0], Mask*quant[0][1]], scalebar ='all', cmap='viridis',\n",
    "                   label=['Fe', 'Pt'], axes_decor='off', vmin=0, vmax=100)"
   ]
  },
  {
   "cell_type": "markdown",
   "metadata": {},
   "source": [
    "## <a id='bss'></a> 5. Non-negative Matrix Factorisation of core/shell nanoparticles"
   ]
  },
  {
   "cell_type": "markdown",
   "metadata": {},
   "source": [
    "<a href='#top'> Table of contents</a>"
   ]
  },
  {
   "cell_type": "markdown",
   "metadata": {},
   "source": [
    "Apply non-negative matrix facorisation (NMF) to obtain a factor (spectrum) corresponding to the core."
   ]
  },
  {
   "cell_type": "code",
   "execution_count": 35,
   "metadata": {},
   "outputs": [
    {
     "name": "stdout",
     "output_type": "stream",
     "text": [
      "Decomposition info:\n",
      "  normalize_poissonian_noise=True\n",
      "  algorithm=SVD\n",
      "  output_dimension=None\n",
      "  centre=None\n"
     ]
    }
   ],
   "source": [
    "cs.change_dtype('float')\n",
    "cs.decomposition()"
   ]
  },
  {
   "cell_type": "code",
   "execution_count": 36,
   "metadata": {},
   "outputs": [],
   "source": [
    "ax = cs.plot_explained_variance_ratio()"
   ]
  },
  {
   "cell_type": "markdown",
   "metadata": {},
   "source": [
    "ICA on the three first components."
   ]
  },
  {
   "cell_type": "code",
   "execution_count": 37,
   "metadata": {},
   "outputs": [
    {
     "name": "stdout",
     "output_type": "stream",
     "text": [
      "Decomposition info:\n",
      "  normalize_poissonian_noise=True\n",
      "  algorithm=NMF\n",
      "  output_dimension=3\n",
      "  centre=None\n",
      "scikit-learn estimator:\n",
      "NMF(n_components=3)\n"
     ]
    },
    {
     "name": "stderr",
     "output_type": "stream",
     "text": [
      "C:\\Users\\katherine.macarthur\\AppData\\Local\\anaconda3\\lib\\site-packages\\sklearn\\decomposition\\_nmf.py:1665: ConvergenceWarning: Maximum number of iterations 200 reached. Increase it to improve convergence.\n",
      "  warnings.warn(\n"
     ]
    }
   ],
   "source": [
    "cs.decomposition(algorithm='NMF', output_dimension=3)"
   ]
  },
  {
   "cell_type": "code",
   "execution_count": 38,
   "metadata": {},
   "outputs": [],
   "source": [
    "axes = cs.plot_decomposition_loadings()"
   ]
  },
  {
   "cell_type": "code",
   "execution_count": 39,
   "metadata": {},
   "outputs": [],
   "source": [
    "axes = cs.plot_decomposition_factors()"
   ]
  },
  {
   "cell_type": "markdown",
   "metadata": {},
   "source": [
    "The first component corresponds to the core."
   ]
  },
  {
   "cell_type": "code",
   "execution_count": 40,
   "metadata": {},
   "outputs": [],
   "source": [
    "s_nmf = cs.get_decomposition_factors().inav[1]"
   ]
  },
  {
   "cell_type": "code",
   "execution_count": 41,
   "metadata": {},
   "outputs": [],
   "source": [
    "s_nmf.plot()"
   ]
  },
  {
   "cell_type": "markdown",
   "metadata": {},
   "source": [
    "## <a id='bare'></a> 6. Representative spectrum from bare cores"
   ]
  },
  {
   "cell_type": "markdown",
   "metadata": {},
   "source": [
    "<a href='#top'> Table of contents</a>"
   ]
  },
  {
   "cell_type": "markdown",
   "metadata": {},
   "source": [
    "To obtain an integrated representative spectrum of the bare nanoparticles, the low intensity of Pt L$_{\\alpha}$ is masked."
   ]
  },
  {
   "cell_type": "code",
   "execution_count": 42,
   "metadata": {},
   "outputs": [],
   "source": [
    "pt_la = c.get_lines_intensity(['Pt_La'])[0]\n",
    "mask = pt_la > 12"
   ]
  },
  {
   "cell_type": "code",
   "execution_count": 43,
   "metadata": {},
   "outputs": [],
   "source": [
    "axes = hs.plot.plot_images((mask * 1, pt_la * mask), axes_decor=None, colorbar=None,\n",
    "                           label=['Mask', 'Pt Lα intensity'], cmap='viridis')"
   ]
  },
  {
   "cell_type": "markdown",
   "metadata": {},
   "source": [
    "To apply the mask, the navigation dimensions of the mask must be manipulated to match the navigation dimensions of the EDS spectrum image. This is achieved crudely via first generating a mask using the built in vacuum_mask() method and then overwriting the data with the mask generated above."
   ]
  },
  {
   "cell_type": "code",
   "execution_count": 44,
   "metadata": {},
   "outputs": [],
   "source": [
    "c_mask = c.sum(-1)\n",
    "c_mask.data = mask.data"
   ]
  },
  {
   "cell_type": "markdown",
   "metadata": {},
   "source": [
    "The sum over the particles is used as a bare core spectrum."
   ]
  },
  {
   "cell_type": "code",
   "execution_count": 45,
   "metadata": {},
   "outputs": [],
   "source": [
    "s_bare = (c * c_mask).sum()"
   ]
  },
  {
   "cell_type": "code",
   "execution_count": 46,
   "metadata": {},
   "outputs": [],
   "source": [
    "s_bare.plot()"
   ]
  },
  {
   "cell_type": "markdown",
   "metadata": {},
   "source": [
    "## <a id='com'></a> 7. Model fitting and quantification"
   ]
  },
  {
   "cell_type": "markdown",
   "metadata": {},
   "source": [
    "<a href='#top'> Table of contents</a>"
   ]
  },
  {
   "cell_type": "markdown",
   "metadata": {},
   "source": [
    "With a greater signal to noise ratio from integrating the spectrum curve fitting now beceoms possible as a method of intensity extraction. \n",
    "\n",
    "First we stack together the spectrum of bare particles and the first ICA component."
   ]
  },
  {
   "cell_type": "code",
   "execution_count": 47,
   "metadata": {},
   "outputs": [
    {
     "name": "stdout",
     "output_type": "stream",
     "text": [
      "[########################################] | 100% Completed | 111.68 ms\n"
     ]
    }
   ],
   "source": [
    "s_bare.change_dtype('float')\n",
    "s = hs.stack([s_bare, s_nmf], new_axis_name='Bare or NMF')\n",
    "s.metadata.General.title = 'Bare or NMF'"
   ]
  },
  {
   "cell_type": "code",
   "execution_count": 48,
   "metadata": {},
   "outputs": [],
   "source": [
    "axes = hs.plot.plot_spectra(s, style='mosaic', legend=['Bare particles', 'NMF #1'])"
   ]
  },
  {
   "cell_type": "markdown",
   "metadata": {},
   "source": [
    "### Method 1 - Window extraction\n",
    "\n",
    "X-ray intensities measurement with background subtraction, using the windows created earlier."
   ]
  },
  {
   "cell_type": "code",
   "execution_count": 49,
   "metadata": {},
   "outputs": [],
   "source": [
    "s.plot(background_windows=bw, integration_windows=iw)"
   ]
  },
  {
   "cell_type": "code",
   "execution_count": 50,
   "metadata": {},
   "outputs": [],
   "source": [
    "sI = s.get_lines_intensity(background_windows=bw, integration_windows=iw)"
   ]
  },
  {
   "cell_type": "code",
   "execution_count": 51,
   "metadata": {},
   "outputs": [
    {
     "name": "stdout",
     "output_type": "stream",
     "text": [
      "Bare core Fe_Kα/Pt_Lα ratio: \t0.20\n",
      "NMF Fe_Kα/Pt_Lα ratio: \t\t0.73\n"
     ]
    }
   ],
   "source": [
    "print('Bare core Fe_Kα/Pt_Lα ratio: \\t{:.2f}'.format(list(sI[0].inav[0].data / sI[1].inav[0].data)[0]))\n",
    "print('NMF Fe_Kα/Pt_Lα ratio: \\t\\t{:.2f}'.format(list(sI[0].inav[1].data / sI[1].inav[1].data)[0]))"
   ]
  },
  {
   "cell_type": "markdown",
   "metadata": {},
   "source": [
    "### Method 2 - Model fitting\n",
    "\n",
    "Measure X-ray intensity by fitting a Gaussian model"
   ]
  },
  {
   "cell_type": "code",
   "execution_count": 52,
   "metadata": {},
   "outputs": [],
   "source": [
    "#Removing the low energy part of the spectrum as this is not a region we're interested in.\n",
    "m = s.isig[5.:15.].create_model()"
   ]
  },
  {
   "cell_type": "code",
   "execution_count": 53,
   "metadata": {},
   "outputs": [],
   "source": [
    "#These lines needed to be added to the model because they are not in the metadata. \n",
    "#In this way they are included in the curve fitting but not in the final quantification.\n",
    "m.add_family_lines(['Cu_Ka', 'Co_Ka'])"
   ]
  },
  {
   "cell_type": "code",
   "execution_count": 54,
   "metadata": {},
   "outputs": [
    {
     "data": {
      "text/plain": [
       "   # |      Attribute Name |      Component Name |      Component Type\n",
       "---- | ------------------- | ------------------- | -------------------\n",
       "   0 |  background_order_6 |  background_order_6 |          Polynomial\n",
       "   1 |               Fe_Ka |               Fe_Ka |            Gaussian\n",
       "   2 |               Fe_Kb |               Fe_Kb |            Gaussian\n",
       "   3 |               Pt_La |               Pt_La |            Gaussian\n",
       "   4 |              Pt_Lb1 |              Pt_Lb1 |            Gaussian\n",
       "   5 |              Pt_Lb4 |              Pt_Lb4 |            Gaussian\n",
       "   6 |               Pt_Ln |               Pt_Ln |            Gaussian\n",
       "   7 |               Pt_Ll |               Pt_Ll |            Gaussian\n",
       "   8 |              Pt_Lb2 |              Pt_Lb2 |            Gaussian\n",
       "   9 |              Pt_Lb3 |              Pt_Lb3 |            Gaussian\n",
       "  10 |              Pt_Lg3 |              Pt_Lg3 |            Gaussian\n",
       "  11 |              Pt_Lg1 |              Pt_Lg1 |            Gaussian\n",
       "  12 |               Cu_Ka |               Cu_Ka |            Gaussian\n",
       "  13 |               Cu_Kb |               Cu_Kb |            Gaussian\n",
       "  14 |               Co_Ka |               Co_Ka |            Gaussian\n",
       "  15 |               Co_Kb |               Co_Kb |            Gaussian"
      ]
     },
     "execution_count": 54,
     "metadata": {},
     "output_type": "execute_result"
    }
   ],
   "source": [
    "m.components"
   ]
  },
  {
   "cell_type": "code",
   "execution_count": 55,
   "metadata": {},
   "outputs": [],
   "source": [
    "m.plot()"
   ]
  },
  {
   "cell_type": "code",
   "execution_count": 56,
   "metadata": {},
   "outputs": [
    {
     "data": {
      "application/vnd.jupyter.widget-view+json": {
       "model_id": "5f673a006ed54046b41eb4e781289d4e",
       "version_major": 2,
       "version_minor": 0
      },
      "text/plain": [
       "  0%|          | 0/2 [00:00<?, ?it/s]"
      ]
     },
     "metadata": {},
     "output_type": "display_data"
    }
   ],
   "source": [
    "m.multifit()"
   ]
  },
  {
   "cell_type": "code",
   "execution_count": 57,
   "metadata": {},
   "outputs": [],
   "source": [
    "m.fit_background()"
   ]
  },
  {
   "cell_type": "code",
   "execution_count": 58,
   "metadata": {},
   "outputs": [],
   "source": [
    "m.calibrate_energy_axis()"
   ]
  },
  {
   "cell_type": "code",
   "execution_count": 59,
   "metadata": {},
   "outputs": [],
   "source": [
    "m.plot()"
   ]
  },
  {
   "cell_type": "code",
   "execution_count": 60,
   "metadata": {},
   "outputs": [
    {
     "data": {
      "text/plain": [
       "[<BaseSignal, title: Intensity of Fe_Ka at 6.40 keV from Bare or NMF, dimensions: (2|)>,\n",
       " <BaseSignal, title: Intensity of Pt_La at 9.44 keV from Bare or NMF, dimensions: (2|)>]"
      ]
     },
     "execution_count": 60,
     "metadata": {},
     "output_type": "execute_result"
    }
   ],
   "source": [
    "sI = m.get_lines_intensity()[:2]\n",
    "sI"
   ]
  },
  {
   "cell_type": "markdown",
   "metadata": {},
   "source": [
    "Set up the kfactors for Fe K$_{\\alpha}$ and Pt L$_{\\alpha}$."
   ]
  },
  {
   "cell_type": "code",
   "execution_count": 61,
   "metadata": {},
   "outputs": [],
   "source": [
    "#From Brucker software (Esprit)\n",
    "kfactors = [1.450226, 5.075602]"
   ]
  },
  {
   "cell_type": "markdown",
   "metadata": {},
   "source": [
    "Quantify with Cliff Lorimer."
   ]
  },
  {
   "cell_type": "code",
   "execution_count": 62,
   "metadata": {},
   "outputs": [
    {
     "name": "stdout",
     "output_type": "stream",
     "text": [
      "[########################################] | 100% Completed | 122.65 ms\n"
     ]
    }
   ],
   "source": [
    "composition = s.quantification(method=\"CL\", intensities=sI, factors=kfactors)"
   ]
  },
  {
   "cell_type": "code",
   "execution_count": 63,
   "metadata": {},
   "outputs": [],
   "source": [
    "composition[1].plot()"
   ]
  },
  {
   "cell_type": "code",
   "execution_count": 64,
   "metadata": {},
   "outputs": [
    {
     "name": "stdout",
     "output_type": "stream",
     "text": [
      "             |-----------------------------|\n",
      "             |     Atomic compositions     |\n",
      "             |-----------------------------|\n",
      " \t     |  Bare core  |   NMF Signal  |\n",
      "|------------|-------------|---------------|\n",
      "| Fe (at. %) |    17.29    |     43.04     |\n",
      "| Pt (at. %) |    82.71    |     56.96     |\n",
      "|------------|-------------|---------------|\n"
     ]
    }
   ],
   "source": [
    "print('             |-----------------------------|')\n",
    "print('             |     Atomic compositions     |')\n",
    "print('             |-----------------------------|')\n",
    "\n",
    "print(' \\t     |  Bare core  |   NMF Signal  |')\n",
    "print('|------------|-------------|---------------|')\n",
    "print('| Fe (at. %) |    {:.2f}    |     {:.2f}     |'.format(composition[0].data[0], composition[0].data[1]))\n",
    "print('| Pt (at. %) |    {:.2f}    |     {:.2f}     |'.format(composition[1].data[0], composition[1].data[1]))\n",
    "print('|------------|-------------|---------------|')"
   ]
  },
  {
   "cell_type": "markdown",
   "metadata": {},
   "source": [
    "## <a id='fur'></a> 6. Going further"
   ]
  },
  {
   "cell_type": "markdown",
   "metadata": {},
   "source": [
    "<a href='#top'> Table of contents</a>"
   ]
  },
  {
   "cell_type": "markdown",
   "metadata": {},
   "source": [
    "Further image processing with [scikit-image](http://scikit-image.org/) and [scipy](http://www.scipy.org/). Apply a watershed transformation to isolate the nanoparticles."
   ]
  },
  {
   "cell_type": "markdown",
   "metadata": {},
   "source": [
    "- Transform the mask into a distance map.\n",
    "- Find local maxima.\n",
    "- Apply the watershed to the distance map using the local maximum as seed (markers).\n",
    "\n",
    "Adapted from this scikit-image [example](http://scikit-image.org/docs/dev/auto_examples/plot_watershed.html)."
   ]
  },
  {
   "cell_type": "code",
   "execution_count": null,
   "metadata": {},
   "outputs": [],
   "source": []
  }
 ],
 "metadata": {
  "anaconda-cloud": {},
  "kernelspec": {
   "display_name": "Python 3 (ipykernel)",
   "language": "python",
   "name": "python3"
  },
  "language_info": {
   "codemirror_mode": {
    "name": "ipython",
    "version": 3
   },
   "file_extension": ".py",
   "mimetype": "text/x-python",
   "name": "python",
   "nbconvert_exporter": "python",
   "pygments_lexer": "ipython3",
   "version": "3.10.9"
  },
  "widgets": {
   "application/vnd.jupyter.widget-state+json": {
    "state": {
     "03512931ab6a42a3b4596deb48a47a65": {
      "model_module": "@jupyter-widgets/controls",
      "model_module_version": "1.5.0",
      "model_name": "DescriptionStyleModel",
      "state": {
       "description_width": ""
      }
     },
     "074899f9cc43429a88f25c2a4c7d7811": {
      "model_module": "@jupyter-widgets/controls",
      "model_module_version": "1.5.0",
      "model_name": "LabelModel",
      "state": {
       "layout": "IPY_MODEL_dae0794b0ec94adb80e15bb11361f117",
       "style": "IPY_MODEL_8a638edc52c348b3a7863349d021f8c5",
       "value": "y"
      }
     },
     "196a5e24aea74a94a34712a0e677c054": {
      "model_module": "@jupyter-widgets/controls",
      "model_module_version": "1.5.0",
      "model_name": "IntSliderModel",
      "state": {
       "description": "index",
       "layout": "IPY_MODEL_8308955040a54a47ae63bf40943ccdf4",
       "max": 31,
       "style": "IPY_MODEL_d7864073385649c1945eaeb230e167dc",
       "value": 22
      }
     },
     "196aea257ac44ee983b1b6bb5972b117": {
      "model_module": "@jupyter-widgets/base",
      "model_module_version": "1.2.0",
      "model_name": "LayoutModel",
      "state": {
       "width": "15%"
      }
     },
     "27f57271671d403b9bf2d4c6c87451c0": {
      "model_module": "@jupyter-widgets/controls",
      "model_module_version": "1.5.0",
      "model_name": "DescriptionStyleModel",
      "state": {
       "description_width": ""
      }
     },
     "2b16f90f4c1f4bdebf2178b95d9d9ef2": {
      "model_module": "@jupyter-widgets/base",
      "model_module_version": "1.2.0",
      "model_name": "LayoutModel",
      "state": {
       "width": "5%"
      }
     },
     "2c582985b9b54dca94b9116d366c50ba": {
      "model_module": "@jupyter-widgets/controls",
      "model_module_version": "1.5.0",
      "model_name": "SliderStyleModel",
      "state": {
       "description_width": ""
      }
     },
     "2c781f5c43ef49a38057388581354c77": {
      "model_module": "@jupyter-widgets/base",
      "model_module_version": "1.2.0",
      "model_name": "LayoutModel",
      "state": {}
     },
     "321b6bb9d9dd4d09afeab6bfe8bc5811": {
      "model_module": "@jupyter-widgets/controls",
      "model_module_version": "1.5.0",
      "model_name": "LabelModel",
      "state": {
       "layout": "IPY_MODEL_2b16f90f4c1f4bdebf2178b95d9d9ef2",
       "style": "IPY_MODEL_b73fdd5c13004d1ba661d89be7d61032",
       "value": "nm"
      }
     },
     "368bef66f8d4408f9d10dc8ee51dda3d": {
      "model_module": "@jupyter-widgets/controls",
      "model_module_version": "1.5.0",
      "model_name": "BoundedFloatTextModel",
      "state": {
       "continuous_update": true,
       "description": "value",
       "layout": "IPY_MODEL_c6433328e8cf4bb29d61836fea450127",
       "max": 31.25,
       "min": 0.25,
       "step": 1,
       "style": "IPY_MODEL_ab7ac5b95a0d4b23b9d961067ca3c132",
       "value": 22.25
      }
     },
     "37d657b90c8c4990917bf11689a575c1": {
      "model_module": "@jupyter-widgets/controls",
      "model_module_version": "1.5.0",
      "model_name": "LabelModel",
      "state": {
       "layout": "IPY_MODEL_9abdaaddd9c7406db89efd63083d2a4e",
       "style": "IPY_MODEL_d706d57e53104e3db37f010ccb927e4a",
       "value": "nm"
      }
     },
     "41bde4f65e7746049caf4658da8e7122": {
      "model_module": "@jupyter-widgets/base",
      "model_module_version": "1.2.0",
      "model_name": "LayoutModel",
      "state": {}
     },
     "46d22b39976a4a9a877e63e9251d2aaf": {
      "model_module": "@jupyter-widgets/base",
      "model_module_version": "1.2.0",
      "model_name": "LayoutModel",
      "state": {
       "display": "flex",
       "flex_flow": "row",
       "justify_content": "space-between"
      }
     },
     "4ba4c11fddf3492c8076ea5a4f79103c": {
      "model_module": "@jupyter-widgets/base",
      "model_module_version": "1.2.0",
      "model_name": "LayoutModel",
      "state": {}
     },
     "5a614460b961424d8747a4949584bc8d": {
      "model_module": "@jupyter-widgets/controls",
      "model_module_version": "1.5.0",
      "model_name": "HTMLModel",
      "state": {
       "layout": "IPY_MODEL_60b886b1786d4477bc1e7c79d45c600d",
       "style": "IPY_MODEL_db1c203be5d74d5e8b5f44971866be6f",
       "value": "100%"
      }
     },
     "5e0e71be3a004949b85187e0f23f7f78": {
      "model_module": "@jupyter-widgets/base",
      "model_module_version": "1.2.0",
      "model_name": "LayoutModel",
      "state": {}
     },
     "5edfc06e393a41e4b239efb440e43f38": {
      "model_module": "@jupyter-widgets/controls",
      "model_module_version": "1.5.0",
      "model_name": "DescriptionStyleModel",
      "state": {
       "description_width": ""
      }
     },
     "5f673a006ed54046b41eb4e781289d4e": {
      "model_module": "@jupyter-widgets/controls",
      "model_module_version": "1.5.0",
      "model_name": "HBoxModel",
      "state": {
       "children": [
        "IPY_MODEL_5a614460b961424d8747a4949584bc8d",
        "IPY_MODEL_6809c1675b5e4d3898d8ffb05935afb8",
        "IPY_MODEL_897b86966fec4ad09181d31f09508b01"
       ],
       "layout": "IPY_MODEL_4ba4c11fddf3492c8076ea5a4f79103c"
      }
     },
     "60b886b1786d4477bc1e7c79d45c600d": {
      "model_module": "@jupyter-widgets/base",
      "model_module_version": "1.2.0",
      "model_name": "LayoutModel",
      "state": {}
     },
     "6809c1675b5e4d3898d8ffb05935afb8": {
      "model_module": "@jupyter-widgets/controls",
      "model_module_version": "1.5.0",
      "model_name": "FloatProgressModel",
      "state": {
       "bar_style": "success",
       "layout": "IPY_MODEL_9b53a77e41714ca9b38f265eecce48a0",
       "max": 2,
       "style": "IPY_MODEL_6c6c9644fe744f17b1d7dc61e1daaf91",
       "value": 2
      }
     },
     "6c6c9644fe744f17b1d7dc61e1daaf91": {
      "model_module": "@jupyter-widgets/controls",
      "model_module_version": "1.5.0",
      "model_name": "ProgressStyleModel",
      "state": {
       "description_width": ""
      }
     },
     "6d6935e55ae5408bb5b198d7517b368f": {
      "model_module": "@jupyter-widgets/controls",
      "model_module_version": "1.5.0",
      "model_name": "LabelModel",
      "state": {
       "layout": "IPY_MODEL_196aea257ac44ee983b1b6bb5972b117",
       "style": "IPY_MODEL_27f57271671d403b9bf2d4c6c87451c0",
       "value": "x"
      }
     },
     "712433bc67dc45548c05702d61fd05c9": {
      "model_module": "@jupyter-widgets/base",
      "model_module_version": "1.2.0",
      "model_name": "LayoutModel",
      "state": {}
     },
     "819342be4ecb486291244eaa7c074d91": {
      "model_module": "@jupyter-widgets/base",
      "model_module_version": "1.2.0",
      "model_name": "LayoutModel",
      "state": {}
     },
     "8308955040a54a47ae63bf40943ccdf4": {
      "model_module": "@jupyter-widgets/base",
      "model_module_version": "1.2.0",
      "model_name": "LayoutModel",
      "state": {}
     },
     "897b86966fec4ad09181d31f09508b01": {
      "model_module": "@jupyter-widgets/controls",
      "model_module_version": "1.5.0",
      "model_name": "HTMLModel",
      "state": {
       "layout": "IPY_MODEL_2c781f5c43ef49a38057388581354c77",
       "style": "IPY_MODEL_5edfc06e393a41e4b239efb440e43f38",
       "value": " 2/2 [00:00&lt;00:00, 44.24it/s]"
      }
     },
     "8a0b70695f634318a7f7427e53ddca5e": {
      "model_module": "@jupyter-widgets/controls",
      "model_module_version": "1.5.0",
      "model_name": "IntSliderModel",
      "state": {
       "description": "index",
       "layout": "IPY_MODEL_819342be4ecb486291244eaa7c074d91",
       "max": 31,
       "style": "IPY_MODEL_2c582985b9b54dca94b9116d366c50ba",
       "value": 14
      }
     },
     "8a638edc52c348b3a7863349d021f8c5": {
      "model_module": "@jupyter-widgets/controls",
      "model_module_version": "1.5.0",
      "model_name": "DescriptionStyleModel",
      "state": {
       "description_width": ""
      }
     },
     "944c2e80393d4395867277df2f496eec": {
      "model_module": "@jupyter-widgets/controls",
      "model_module_version": "1.5.0",
      "model_name": "HBoxModel",
      "state": {
       "children": [
        "IPY_MODEL_6d6935e55ae5408bb5b198d7517b368f",
        "IPY_MODEL_196a5e24aea74a94a34712a0e677c054",
        "IPY_MODEL_368bef66f8d4408f9d10dc8ee51dda3d",
        "IPY_MODEL_321b6bb9d9dd4d09afeab6bfe8bc5811"
       ],
       "layout": "IPY_MODEL_cde092533e954c78b597b609311398aa"
      }
     },
     "9abdaaddd9c7406db89efd63083d2a4e": {
      "model_module": "@jupyter-widgets/base",
      "model_module_version": "1.2.0",
      "model_name": "LayoutModel",
      "state": {
       "width": "5%"
      }
     },
     "9b53a77e41714ca9b38f265eecce48a0": {
      "model_module": "@jupyter-widgets/base",
      "model_module_version": "1.2.0",
      "model_name": "LayoutModel",
      "state": {}
     },
     "ab7ac5b95a0d4b23b9d961067ca3c132": {
      "model_module": "@jupyter-widgets/controls",
      "model_module_version": "1.5.0",
      "model_name": "DescriptionStyleModel",
      "state": {
       "description_width": ""
      }
     },
     "b73fdd5c13004d1ba661d89be7d61032": {
      "model_module": "@jupyter-widgets/controls",
      "model_module_version": "1.5.0",
      "model_name": "DescriptionStyleModel",
      "state": {
       "description_width": ""
      }
     },
     "c4473d0e32bf44edb314489677b87031": {
      "model_module": "@jupyter-widgets/controls",
      "model_module_version": "1.5.0",
      "model_name": "CheckboxModel",
      "state": {
       "description": "Continuous update",
       "disabled": false,
       "layout": "IPY_MODEL_df0eedd02f5242eb80e7e9f154057b7d",
       "style": "IPY_MODEL_ece4fb9bbd0a4ebf92cd9697dc6e3f3e",
       "value": true
      }
     },
     "c6433328e8cf4bb29d61836fea450127": {
      "model_module": "@jupyter-widgets/base",
      "model_module_version": "1.2.0",
      "model_name": "LayoutModel",
      "state": {}
     },
     "cde092533e954c78b597b609311398aa": {
      "model_module": "@jupyter-widgets/base",
      "model_module_version": "1.2.0",
      "model_name": "LayoutModel",
      "state": {}
     },
     "d180ce8867614a898d3d34a5cb798d1f": {
      "model_module": "@jupyter-widgets/controls",
      "model_module_version": "1.5.0",
      "model_name": "HBoxModel",
      "state": {
       "children": [
        "IPY_MODEL_074899f9cc43429a88f25c2a4c7d7811",
        "IPY_MODEL_8a0b70695f634318a7f7427e53ddca5e",
        "IPY_MODEL_eb5d486f04524994b8e08f6999056e55",
        "IPY_MODEL_37d657b90c8c4990917bf11689a575c1"
       ],
       "layout": "IPY_MODEL_41bde4f65e7746049caf4658da8e7122"
      }
     },
     "d706d57e53104e3db37f010ccb927e4a": {
      "model_module": "@jupyter-widgets/controls",
      "model_module_version": "1.5.0",
      "model_name": "DescriptionStyleModel",
      "state": {
       "description_width": ""
      }
     },
     "d7864073385649c1945eaeb230e167dc": {
      "model_module": "@jupyter-widgets/controls",
      "model_module_version": "1.5.0",
      "model_name": "SliderStyleModel",
      "state": {
       "description_width": ""
      }
     },
     "dae0794b0ec94adb80e15bb11361f117": {
      "model_module": "@jupyter-widgets/base",
      "model_module_version": "1.2.0",
      "model_name": "LayoutModel",
      "state": {
       "width": "15%"
      }
     },
     "db1c203be5d74d5e8b5f44971866be6f": {
      "model_module": "@jupyter-widgets/controls",
      "model_module_version": "1.5.0",
      "model_name": "DescriptionStyleModel",
      "state": {
       "description_width": ""
      }
     },
     "df0eedd02f5242eb80e7e9f154057b7d": {
      "model_module": "@jupyter-widgets/base",
      "model_module_version": "1.2.0",
      "model_name": "LayoutModel",
      "state": {}
     },
     "eb5d486f04524994b8e08f6999056e55": {
      "model_module": "@jupyter-widgets/controls",
      "model_module_version": "1.5.0",
      "model_name": "BoundedFloatTextModel",
      "state": {
       "continuous_update": true,
       "description": "value",
       "layout": "IPY_MODEL_5e0e71be3a004949b85187e0f23f7f78",
       "max": 31.25,
       "min": 0.25,
       "step": 1,
       "style": "IPY_MODEL_03512931ab6a42a3b4596deb48a47a65",
       "value": 14.25
      }
     },
     "ece4fb9bbd0a4ebf92cd9697dc6e3f3e": {
      "model_module": "@jupyter-widgets/controls",
      "model_module_version": "1.5.0",
      "model_name": "DescriptionStyleModel",
      "state": {
       "description_width": ""
      }
     },
     "f6e040c1e9034d21bd89341b797d5ab3": {
      "model_module": "@jupyter-widgets/controls",
      "model_module_version": "1.5.0",
      "model_name": "VBoxModel",
      "state": {
       "children": [
        "IPY_MODEL_944c2e80393d4395867277df2f496eec",
        "IPY_MODEL_d180ce8867614a898d3d34a5cb798d1f",
        "IPY_MODEL_c4473d0e32bf44edb314489677b87031"
       ],
       "layout": "IPY_MODEL_712433bc67dc45548c05702d61fd05c9"
      }
     }
    },
    "version_major": 2,
    "version_minor": 0
   }
  }
 },
 "nbformat": 4,
 "nbformat_minor": 4
}
